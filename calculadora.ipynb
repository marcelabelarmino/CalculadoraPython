{
 "cells": [
  {
   "cell_type": "code",
   "execution_count": 2,
   "metadata": {},
   "outputs": [],
   "source": [
    "def soma(n1, n2):\n",
    "    return n1+n2\n",
    "\n",
    "def subtrai(n1, n2):\n",
    "    return n1-n2\n",
    "\n",
    "def multiplicacao(n1, n2):\n",
    "    return n1*n2\n",
    "\n",
    "def divisao(n1, n2):\n",
    "    return n1/n2"
   ]
  },
  {
   "cell_type": "code",
   "execution_count": 3,
   "metadata": {},
   "outputs": [
    {
     "name": "stdout",
     "output_type": "stream",
     "text": [
      "+====================+\n",
      "| ESCOLHA A OPERAÇÃO:|\n",
      "|  1 - adição        |\n",
      "|  2 - subtração     |\n",
      "|  3 - multiplicação |\n",
      "|  4 - divisão       |\n",
      "|  0 - sair          |\n",
      "+====================+\n",
      "5 + 5 = 10\n"
     ]
    }
   ],
   "source": [
    "while True:\n",
    "    print('+====================+')\n",
    "    print('| ESCOLHA A OPERAÇÃO:|')\n",
    "    print('|  1 - adição        |')\n",
    "    print('|  2 - subtração     |')\n",
    "    print('|  3 - multiplicação |')\n",
    "    print('|  4 - divisão       |')\n",
    "    print('|  0 - sair          |')\n",
    "    print('+====================+')\n",
    "\n",
    "    op = int(input())\n",
    "    if op==0:\n",
    "        print('DESLIGANDO')\n",
    "        break\n",
    "    elif op>4:\n",
    "        print('VALOR INVÁLIDO!')\n",
    "\n",
    "    while (5 > op > 0):\n",
    "        n1 = int(input('Primeiro número: '))\n",
    "        n2 = int(input('Segundo número: '))\n",
    "\n",
    "        if op==1:\n",
    "            print(n1,'+',n2,'=', soma(n1, n2))\n",
    "        elif op==2:\n",
    "            print(n1,'-',n2,'=', subtrai(n1, n2))\n",
    "        elif op==3:\n",
    "            print(n1,'x',n2,'=', multiplicacao(n1, n2))\n",
    "        elif op==4:\n",
    "            print(n1,'÷',n2,'=', divisao(n1, n2))\n",
    "        \n"
   ]
  }
 ],
 "metadata": {
  "kernelspec": {
   "display_name": "Python 3",
   "language": "python",
   "name": "python3"
  },
  "language_info": {
   "codemirror_mode": {
    "name": "ipython",
    "version": 3
   },
   "file_extension": ".py",
   "mimetype": "text/x-python",
   "name": "python",
   "nbconvert_exporter": "python",
   "pygments_lexer": "ipython3",
   "version": "3.12.2"
  }
 },
 "nbformat": 4,
 "nbformat_minor": 2
}
